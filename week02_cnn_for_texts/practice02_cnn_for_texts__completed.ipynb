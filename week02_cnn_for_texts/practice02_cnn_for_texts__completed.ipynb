{
 "cells": [
  {
   "cell_type": "markdown",
   "metadata": {
    "colab_type": "text",
    "id": "13pL--6rycN3"
   },
   "source": [
    "## Practice 02: Dealing with texts using CNN\n",
    "\n",
    "Today we're gonna apply the newly learned tools for the task of predicting job salary.\n",
    "\n",
    "<img src=\"https://storage.googleapis.com/kaggle-competitions/kaggle/3342/logos/front_page.png\" width=400px>\n",
    "\n",
    "Based on YSDA [materials](https://github.com/yandexdataschool/nlp_course/blob/master/week02_classification/seminar.ipynb). _Special thanks to [Oleg Vasilev](https://github.com/Omrigan/) for the core assignment idea._"
   ]
  },
  {
   "cell_type": "code",
   "execution_count": 1,
   "metadata": {
    "colab": {},
    "colab_type": "code",
    "id": "P8zS7m-gycN5"
   },
   "outputs": [],
   "source": [
    "import matplotlib.pyplot as plt\n",
    "import numpy as np\n",
    "import pandas as pd\n",
    "\n",
    "\n",
    "%matplotlib inline"
   ]
  },
  {
   "cell_type": "markdown",
   "metadata": {
    "colab_type": "text",
    "id": "34x92vWQycN_"
   },
   "source": [
    "### About the challenge\n",
    "For starters, let's download and unpack the data from [here](https://www.dropbox.com/s/5msc5ix7ndyba10/Train_rev1.csv.tar.gz?dl=0). \n",
    "\n",
    "You can also get it from [yadisk url](https://yadi.sk/d/vVEOWPFY3NruT7) the competition [page](https://www.kaggle.com/c/job-salary-prediction/data) (pick `Train_rev1.*`)."
   ]
  },
  {
   "cell_type": "code",
   "execution_count": 2,
   "metadata": {
    "colab": {
     "base_uri": "https://localhost:8080/",
     "height": 143
    },
    "colab_type": "code",
    "id": "vwN72gd4ycOA",
    "outputId": "7b9e8549-3128-4041-c4be-33fb6f326c78"
   },
   "outputs": [],
   "source": [
    "# Do this only once\n",
    "# !curl -L \"https://www.dropbox.com/s/5msc5ix7ndyba10/Train_rev1.csv.tar.gz?dl=1\" -o Train_rev1.csv.tar.gz\n",
    "# !tar -xvzf ./Train_rev1.csv.tar.gz"
   ]
  },
  {
   "cell_type": "code",
   "execution_count": 3,
   "metadata": {
    "colab": {
     "base_uri": "https://localhost:8080/",
     "height": 143
    },
    "colab_type": "code",
    "id": "vwN72gd4ycOA",
    "outputId": "7b9e8549-3128-4041-c4be-33fb6f326c78"
   },
   "outputs": [
    {
     "data": {
      "text/plain": [
       "(244768, 12)"
      ]
     },
     "execution_count": 3,
     "metadata": {},
     "output_type": "execute_result"
    }
   ],
   "source": [
    "data = pd.read_csv(\"./Train_rev1.csv\", index_col=None)\n",
    "data.shape"
   ]
  },
  {
   "cell_type": "code",
   "execution_count": 4,
   "metadata": {},
   "outputs": [
    {
     "name": "stdout",
     "output_type": "stream",
     "text": [
      "Index(['Id', 'Title', 'FullDescription', 'LocationRaw', 'LocationNormalized',\n",
      "       'ContractType', 'ContractTime', 'Company', 'Category', 'SalaryRaw',\n",
      "       'SalaryNormalized', 'SourceName'],\n",
      "      dtype='object')\n"
     ]
    }
   ],
   "source": [
    "print(data.columns)"
   ]
  },
  {
   "cell_type": "markdown",
   "metadata": {
    "colab_type": "text",
    "id": "z7kznuJfycOH"
   },
   "source": [
    "One problem with salary prediction is that it's oddly distributed: there are many people who are paid standard salaries and a few that get tons o money. The distribution is fat-tailed on the right side, which is inconvenient for MSE minimization.\n",
    "\n",
    "There are several techniques to combat this: using a different loss function, predicting log-target instead of raw target or even replacing targets with their percentiles among all salaries in the training set. We gonna use logarithm for now.\n",
    "\n",
    "_You can read more [in the official description](https://www.kaggle.com/c/job-salary-prediction#description)._"
   ]
  },
  {
   "cell_type": "code",
   "execution_count": 5,
   "metadata": {
    "colab": {
     "base_uri": "https://localhost:8080/",
     "height": 265
    },
    "colab_type": "code",
    "id": "UuuKIKfrycOH",
    "outputId": "e5de0f94-a4f6-4b51-db80-9d11ddc1db31"
   },
   "outputs": [
    {
     "data": {
      "image/png": "[encoded data removed]",
      "text/plain": [
       "<Figure size 800x400 with 2 Axes>"
      ]
     },
     "metadata": {},
     "output_type": "display_data"
    }
   ],
   "source": [
    "data[\"Log1pSalary\"] = np.log1p(data[\"SalaryNormalized\"]).astype(\"float32\")\n",
    "\n",
    "plt.figure(figsize=[8, 4])\n",
    "plt.subplot(1, 2, 1)\n",
    "plt.hist(data[\"SalaryNormalized\"], bins=100)\n",
    "\n",
    "plt.subplot(1, 2, 2)\n",
    "plt.hist(data[\"Log1pSalary\"], bins=100);"
   ]
  },
  {
   "cell_type": "markdown",
   "metadata": {
    "colab_type": "text",
    "id": "Fcu-qmHRycOK"
   },
   "source": [
    "Our task is to predict one number, __Log1pSalary__.\n",
    "\n",
    "To do so, our model can access a number of features:\n",
    "* Free text: __`Title`__ and  __`FullDescription`__\n",
    "* Categorical: __`Category`__, __`Company`__, __`LocationNormalized`__, __`ContractType`__, and __`ContractTime`__."
   ]
  },
  {
   "cell_type": "code",
   "execution_count": 6,
   "metadata": {
    "colab": {
     "base_uri": "https://localhost:8080/",
     "height": 332
    },
    "colab_type": "code",
    "id": "p9vyA_erycOK",
    "outputId": "af9a21f3-10b7-4fde-d4cd-1f66939566b8"
   },
   "outputs": [
    {
     "data": {
      "text/html": [
       "<div>\n",
       "<style scoped>\n",
       "    .dataframe tbody tr th:only-of-type {\n",
       "        vertical-align: middle;\n",
       "    }\n",
       "\n",
       "    .dataframe tbody tr th {\n",
       "        vertical-align: top;\n",
       "    }\n",
       "\n",
       "    .dataframe thead th {\n",
       "        text-align: right;\n",
       "    }\n",
       "</style>\n",
       "<table border=\"1\" class=\"dataframe\">\n",
       "  <thead>\n",
       "    <tr style=\"text-align: right;\">\n",
       "      <th></th>\n",
       "      <th>Id</th>\n",
       "      <th>Title</th>\n",
       "      <th>FullDescription</th>\n",
       "      <th>LocationRaw</th>\n",
       "      <th>LocationNormalized</th>\n",
       "      <th>ContractType</th>\n",
       "      <th>ContractTime</th>\n",
       "      <th>Company</th>\n",
       "      <th>Category</th>\n",
       "      <th>SalaryRaw</th>\n",
       "      <th>SalaryNormalized</th>\n",
       "      <th>SourceName</th>\n",
       "      <th>Log1pSalary</th>\n",
       "    </tr>\n",
       "  </thead>\n",
       "  <tbody>\n",
       "    <tr>\n",
       "      <th>176339</th>\n",
       "      <td>71470243</td>\n",
       "      <td>Senior Property Solicitor / Partner  Kensington</td>\n",
       "      <td>This is a very rare opportunity for a Senior S...</td>\n",
       "      <td>City of London</td>\n",
       "      <td>The City</td>\n",
       "      <td>full_time</td>\n",
       "      <td>permanent</td>\n",
       "      <td>Austen Lloyd</td>\n",
       "      <td>Social work Jobs</td>\n",
       "      <td>70000 - 100000 per annum + Excellent Package</td>\n",
       "      <td>85000</td>\n",
       "      <td>ijobs</td>\n",
       "      <td>11.350418</td>\n",
       "    </tr>\n",
       "    <tr>\n",
       "      <th>228299</th>\n",
       "      <td>72446490</td>\n",
       "      <td>Chief Engineer</td>\n",
       "      <td>The Company Reputable manufacturer of quality ...</td>\n",
       "      <td>South Wales Wales</td>\n",
       "      <td>Wales</td>\n",
       "      <td>NaN</td>\n",
       "      <td>permanent</td>\n",
       "      <td>Resourcing Partnership  Ltd</td>\n",
       "      <td>Engineering Jobs</td>\n",
       "      <td>From 60,000 to 70,000 per annum</td>\n",
       "      <td>65000</td>\n",
       "      <td>totaljobs.com</td>\n",
       "      <td>11.082158</td>\n",
       "    </tr>\n",
       "    <tr>\n",
       "      <th>25409</th>\n",
       "      <td>67770821</td>\n",
       "      <td>Lift Surveyor / Engineer Plus CAD</td>\n",
       "      <td>CAD Draughtsman  Lift Surveyor  Immediate Star...</td>\n",
       "      <td>Oldham, England</td>\n",
       "      <td>Oldham</td>\n",
       "      <td>NaN</td>\n",
       "      <td>NaN</td>\n",
       "      <td>NaN</td>\n",
       "      <td>Engineering Jobs</td>\n",
       "      <td>35000</td>\n",
       "      <td>35000</td>\n",
       "      <td>britishjobsonthe.net</td>\n",
       "      <td>10.463132</td>\n",
       "    </tr>\n",
       "  </tbody>\n",
       "</table>\n",
       "</div>"
      ],
      "text/plain": [
       "              Id                                            Title  \\\n",
       "176339  71470243  Senior Property Solicitor / Partner  Kensington   \n",
       "228299  72446490                                   Chief Engineer   \n",
       "25409   67770821                Lift Surveyor / Engineer Plus CAD   \n",
       "\n",
       "                                          FullDescription        LocationRaw  \\\n",
       "176339  This is a very rare opportunity for a Senior S...     City of London   \n",
       "228299  The Company Reputable manufacturer of quality ...  South Wales Wales   \n",
       "25409   CAD Draughtsman  Lift Surveyor  Immediate Star...    Oldham, England   \n",
       "\n",
       "       LocationNormalized ContractType ContractTime  \\\n",
       "176339           The City    full_time    permanent   \n",
       "228299              Wales          NaN    permanent   \n",
       "25409              Oldham          NaN          NaN   \n",
       "\n",
       "                            Company          Category  \\\n",
       "176339                 Austen Lloyd  Social work Jobs   \n",
       "228299  Resourcing Partnership  Ltd  Engineering Jobs   \n",
       "25409                           NaN  Engineering Jobs   \n",
       "\n",
       "                                           SalaryRaw  SalaryNormalized  \\\n",
       "176339  70000 - 100000 per annum + Excellent Package             85000   \n",
       "228299               From 60,000 to 70,000 per annum             65000   \n",
       "25409                                          35000             35000   \n",
       "\n",
       "                  SourceName  Log1pSalary  \n",
       "176339                 ijobs    11.350418  \n",
       "228299         totaljobs.com    11.082158  \n",
       "25409   britishjobsonthe.net    10.463132  "
      ]
     },
     "execution_count": 6,
     "metadata": {},
     "output_type": "execute_result"
    }
   ],
   "source": [
    "text_columns = [\"Title\", \"FullDescription\"]\n",
    "categorical_columns = [\"Category\", \"Company\", \"LocationNormalized\", \"ContractType\", \"ContractTime\"]\n",
    "target_column = \"Log1pSalary\"\n",
    "\n",
    "data[categorical_columns] = data[categorical_columns].fillna(\n",
    "    \"NaN\"\n",
    ")  # cast missing values to string \"NaN\"\n",
    "\n",
    "data.sample(3)"
   ]
  },
  {
   "cell_type": "markdown",
   "metadata": {
    "colab_type": "text",
    "id": "IUdclucmycON"
   },
   "source": [
    "### Preprocessing text data\n",
    "\n",
    "Just like last week, applying NLP to a problem begins from tokenization: splitting raw text into sequences of tokens (words, punctuation, etc).\n",
    "\n",
    "__Your task__ is to lowercase and tokenize all texts under `Title` and `FullDescription` columns. Store the tokenized data as a __space-separated__ string of tokens for performance reasons.\n",
    "\n",
    "It's okay to use nltk tokenizers. Assertions were designed for WordPunctTokenizer, slight deviations are okay."
   ]
  },
  {
   "cell_type": "code",
   "execution_count": 7,
   "metadata": {
    "colab": {
     "base_uri": "https://localhost:8080/",
     "height": 107
    },
    "colab_type": "code",
    "id": "YzeOxD_aycOO",
    "outputId": "b4826117-1196-4a0e-92fa-6fd3ca609202"
   },
   "outputs": [
    {
     "name": "stdout",
     "output_type": "stream",
     "text": [
      "Raw text:\n",
      "2         Mathematical Modeller / Simulation Analyst / O...\n",
      "100002    A successful and high achieving specialist sch...\n",
      "200002    Web Designer  HTML, CSS, JavaScript, Photoshop...\n",
      "Name: FullDescription, dtype: object\n"
     ]
    }
   ],
   "source": [
    "print(\"Raw text:\")\n",
    "print(data[\"FullDescription\"][2::100000])"
   ]
  },
  {
   "cell_type": "code",
   "execution_count": 8,
   "metadata": {
    "colab": {},
    "colab_type": "code",
    "id": "RUWkpd7PycOQ"
   },
   "outputs": [],
   "source": [
    "import nltk\n",
    "\n",
    "\n",
    "tokenizer = nltk.tokenize.WordPunctTokenizer()\n",
    "\n",
    "# see task above\n",
    "def normalize(text):\n",
    "    text = str(text).lower()\n",
    "    tokens = tokenizer.tokenize(text)\n",
    "    return \" \".join(tokens)\n",
    "    # <YOUR CODE HERE>\n",
    "\n",
    "\n",
    "data[text_columns] = data[text_columns].applymap(normalize)"
   ]
  },
  {
   "cell_type": "markdown",
   "metadata": {
    "colab_type": "text",
    "id": "o3pQdHihycOT"
   },
   "source": [
    "Now we can assume that our text is a space-separated list of tokens:"
   ]
  },
  {
   "cell_type": "code",
   "execution_count": 9,
   "metadata": {
    "colab": {
     "base_uri": "https://localhost:8080/",
     "height": 107
    },
    "colab_type": "code",
    "id": "Gs-6lnS_ycOU",
    "outputId": "8948250d-7117-4e4f-a38d-00405f9b2cec"
   },
   "outputs": [
    {
     "name": "stdout",
     "output_type": "stream",
     "text": [
      "Tokenized:\n",
      "2         mathematical modeller / simulation analyst / o...\n",
      "100002    a successful and high achieving specialist sch...\n",
      "200002    web designer html , css , javascript , photosh...\n",
      "Name: FullDescription, dtype: object\n"
     ]
    }
   ],
   "source": [
    "print(\"Tokenized:\")\n",
    "print(data[\"FullDescription\"][2::100000])\n",
    "assert data[\"FullDescription\"][2][:50] == \"mathematical modeller / simulation analyst / opera\"\n",
    "assert data[\"Title\"][54321] == \"international digital account manager ( german )\""
   ]
  },
  {
   "cell_type": "markdown",
   "metadata": {
    "colab_type": "text",
    "id": "ouE3L2hyycOX"
   },
   "source": [
    "Not all words are equally useful. Some of them are typos or rare words that are only present a few times. \n",
    "\n",
    "Let's count how many times is each word present in the data so that we can build a \"white list\" of known words."
   ]
  },
  {
   "cell_type": "code",
   "execution_count": 10,
   "metadata": {
    "colab": {
     "base_uri": "https://localhost:8080/",
     "height": 35
    },
    "colab_type": "code",
    "id": "iC7hBwwjycOX",
    "outputId": "70eb75fc-535f-45a3-ad97-95a98e1d020f"
   },
   "outputs": [],
   "source": [
    "# Count how many times does each token occur in both \"Title\" and \"FullDescription\" in total\n",
    "# build a dictionary { token -> it's count }\n",
    "from collections import Counter\n",
    "\n",
    "from tqdm import tqdm as tqdm\n",
    "\n",
    "\n",
    "token_counts = Counter()  # <YOUR CODE HERE>\n",
    "\n",
    "# hint: you may or may not want to use collections.Counter"
   ]
  },
  {
   "cell_type": "code",
   "execution_count": 11,
   "metadata": {},
   "outputs": [
    {
     "name": "stdout",
     "output_type": "stream",
     "text": [
      "CPU times: user 21.6 s, sys: 181 ms, total: 21.7 s\n",
      "Wall time: 21.7 s\n"
     ]
    }
   ],
   "source": [
    "%%time\n",
    "\n",
    "for i, row in data[text_columns].iterrows():\n",
    "    # print(type(row))\n",
    "    # print(row)\n",
    "    # import sys\n",
    "    # sys.exit()\n",
    "    for text in row:\n",
    "        # print(text + '\\n')\n",
    "        # if i == 5:\n",
    "        #     import sys\n",
    "        #     sys.exit()\n",
    "        token_counts.update(text.split(\" \"))"
   ]
  },
  {
   "cell_type": "code",
   "execution_count": 12,
   "metadata": {},
   "outputs": [],
   "source": [
    "token_counts_second = Counter()  # <YOUR CODE HERE>"
   ]
  },
  {
   "cell_type": "code",
   "execution_count": 13,
   "metadata": {},
   "outputs": [
    {
     "name": "stdout",
     "output_type": "stream",
     "text": [
      "CPU times: user 9.48 s, sys: 124 ms, total: 9.61 s\n",
      "Wall time: 9.61 s\n"
     ]
    }
   ],
   "source": [
    "%%time\n",
    "for row in data[text_columns].values.flatten():\n",
    "    token_counts_second.update(row.split(\" \"))"
   ]
  },
  {
   "cell_type": "code",
   "execution_count": 14,
   "metadata": {},
   "outputs": [
    {
     "data": {
      "text/plain": [
       "True"
      ]
     },
     "execution_count": 14,
     "metadata": {},
     "output_type": "execute_result"
    }
   ],
   "source": [
    "token_counts == token_counts_second"
   ]
  },
  {
   "cell_type": "code",
   "execution_count": 15,
   "metadata": {
    "colab": {
     "base_uri": "https://localhost:8080/",
     "height": 215
    },
    "colab_type": "code",
    "id": "GiOWbc15ycOb",
    "outputId": "1e807140-5513-4af0-d9a9-9f029059a553"
   },
   "outputs": [
    {
     "name": "stdout",
     "output_type": "stream",
     "text": [
      "Total unique tokens : 202704\n",
      "('and', 2657388)\n",
      "('.', 2523216)\n",
      "(',', 2318606)\n",
      "('the', 2080994)\n",
      "('to', 2019884)\n",
      "...\n",
      "('stephanietraveltraderecruitmnt', 1)\n",
      "('ruabon', 1)\n",
      "('lowehays', 1)\n",
      "Correct!\n"
     ]
    }
   ],
   "source": [
    "print(\"Total unique tokens :\", len(token_counts))\n",
    "print(\"\\n\".join(map(str, token_counts.most_common(n=5))))\n",
    "print(\"...\")\n",
    "print(\"\\n\".join(map(str, token_counts.most_common()[-3:])))\n",
    "\n",
    "assert token_counts.most_common(1)[0][1] in range(2600000, 2700000)\n",
    "assert len(token_counts) in range(200000, 210000)\n",
    "print(\"Correct!\")"
   ]
  },
  {
   "cell_type": "code",
   "execution_count": 16,
   "metadata": {
    "colab": {
     "base_uri": "https://localhost:8080/",
     "height": 279
    },
    "colab_type": "code",
    "id": "nd5v3BNfycOf",
    "outputId": "1c59b386-f052-4340-bf5d-09ae8d15983c"
   },
   "outputs": [
    {
     "data": {
      "image/png": "[encoded data removed]",
      "text/plain": [
       "<Figure size 640x480 with 1 Axes>"
      ]
     },
     "metadata": {},
     "output_type": "display_data"
    }
   ],
   "source": [
    "# Let's see how many words are there for each count\n",
    "plt.hist(list(token_counts.values()), range=[0, 10 ** 4], bins=50, log=True)\n",
    "plt.xlabel(\"Word counts\");"
   ]
  },
  {
   "cell_type": "markdown",
   "metadata": {
    "colab_type": "text",
    "id": "znuXxeghycOh"
   },
   "source": [
    "Now filter tokens a list of all tokens that occur at least 10 times."
   ]
  },
  {
   "cell_type": "code",
   "execution_count": 17,
   "metadata": {
    "colab": {},
    "colab_type": "code",
    "id": "SeNFBWx5ycOh"
   },
   "outputs": [
    {
     "name": "stdout",
     "output_type": "stream",
     "text": [
      "202704\n",
      "[('engineering', 68563), ('systems', 77071), ('analyst', 34427), ('dorking', 260), ('surrey', 8237)]\n",
      "34156\n"
     ]
    }
   ],
   "source": [
    "min_count = 10\n",
    "\n",
    "# tokens from token_counts keys that had at least min_count occurrences throughout the dataset\n",
    "print(len(token_counts))\n",
    "print([item for j, item in enumerate(token_counts.items()) if j < 5])\n",
    "tokens = [token for token, count in token_counts.items() if count >= min_count]  # <YOUR CODE HERE>\n",
    "print(len(tokens))"
   ]
  },
  {
   "cell_type": "code",
   "execution_count": 18,
   "metadata": {
    "colab": {
     "base_uri": "https://localhost:8080/",
     "height": 53
    },
    "colab_type": "code",
    "id": "RATIRyPKycOk",
    "outputId": "6bb7482c-7c46-4f7e-81f2-6b70e04abc64"
   },
   "outputs": [
    {
     "name": "stdout",
     "output_type": "stream",
     "text": [
      "Vocabulary size: 34158\n",
      "Correct!\n"
     ]
    }
   ],
   "source": [
    "# Add a special tokens for unknown and empty words\n",
    "UNK, PAD = \"UNK\", \"PAD\"\n",
    "tokens = [UNK, PAD] + sorted(tokens)\n",
    "print(\"Vocabulary size:\", len(tokens))\n",
    "\n",
    "assert type(tokens) == list\n",
    "assert len(tokens) in range(32000, 35000)\n",
    "assert \"me\" in tokens\n",
    "assert UNK in tokens\n",
    "print(\"Correct!\")"
   ]
  },
  {
   "cell_type": "markdown",
   "metadata": {
    "colab_type": "text",
    "id": "cqEsgbjZycOo"
   },
   "source": [
    "Build an inverse token index: a dictionary from token(string) to it's index in `tokens` (int)"
   ]
  },
  {
   "cell_type": "code",
   "execution_count": 19,
   "metadata": {
    "colab": {},
    "colab_type": "code",
    "id": "L60lo1l_ycOq"
   },
   "outputs": [],
   "source": [
    "# You have already done that ;)\n",
    "\n",
    "token_to_id = {token: idx for idx, token in enumerate(tokens)}  # <YOUR CODE HERE>"
   ]
  },
  {
   "cell_type": "code",
   "execution_count": 20,
   "metadata": {
    "colab": {
     "base_uri": "https://localhost:8080/",
     "height": 35
    },
    "colab_type": "code",
    "id": "DeAoVo4mycOr",
    "outputId": "8f29ef68-f9bd-4628-8222-1dc17f8f2590"
   },
   "outputs": [
    {
     "name": "stdout",
     "output_type": "stream",
     "text": [
      "Correct!\n"
     ]
    }
   ],
   "source": [
    "assert isinstance(token_to_id, dict)\n",
    "assert len(token_to_id) == len(tokens)\n",
    "for tok in tokens:\n",
    "    assert tokens[token_to_id[tok]] == tok\n",
    "\n",
    "print(\"Correct!\")"
   ]
  },
  {
   "cell_type": "markdown",
   "metadata": {
    "colab_type": "text",
    "id": "cmJAkq3gycOv"
   },
   "source": [
    "And finally, let's use the vocabulary you've built to map text lines into neural network-digestible matrices."
   ]
  },
  {
   "cell_type": "code",
   "execution_count": 21,
   "metadata": {
    "colab": {},
    "colab_type": "code",
    "id": "JEsLeBjVycOw"
   },
   "outputs": [],
   "source": [
    "UNK_IX, PAD_IX = map(token_to_id.get, [UNK, PAD])\n",
    "\n",
    "\n",
    "def as_matrix(sequences, max_len=None):\n",
    "    \"\"\"Convert a list of tokens into a matrix with padding\"\"\"\n",
    "    if isinstance(sequences[0], str):\n",
    "        sequences = list(map(str.split, sequences))\n",
    "\n",
    "    max_len = min(max(map(len, sequences)), max_len or float(\"inf\"))\n",
    "\n",
    "    matrix = np.full((len(sequences), max_len), np.int32(PAD_IX))\n",
    "    for i, seq in enumerate(sequences):\n",
    "        row_ix = [token_to_id.get(word, UNK_IX) for word in seq[:max_len]]\n",
    "        matrix[i, : len(row_ix)] = row_ix\n",
    "\n",
    "    return matrix"
   ]
  },
  {
   "cell_type": "code",
   "execution_count": 22,
   "metadata": {
    "colab": {
     "base_uri": "https://localhost:8080/",
     "height": 179
    },
    "colab_type": "code",
    "id": "JiBlPkdKycOy",
    "outputId": "3866b444-1e2d-4d79-d429-fecc6d8e02a8"
   },
   "outputs": [
    {
     "name": "stdout",
     "output_type": "stream",
     "text": [
      "Lines:\n",
      "engineering systems analyst\n",
      "hr assistant\n",
      "senior ec & i engineer\n",
      "\n",
      "Matrix:\n",
      "[[10807 30161  2166     1     1]\n",
      " [15020  2844     1     1     1]\n",
      " [27645 10201    16 15215 10804]]\n"
     ]
    }
   ],
   "source": [
    "print(\"Lines:\")\n",
    "print(\"\\n\".join(data[\"Title\"][::100000].values), end=\"\\n\\n\")\n",
    "print(\"Matrix:\")\n",
    "print(as_matrix(data[\"Title\"][::100000]))"
   ]
  },
  {
   "cell_type": "markdown",
   "metadata": {
    "colab_type": "text",
    "id": "nGOdZ3-dycO4"
   },
   "source": [
    "Now let's  encode the categirical data we have.\n",
    "\n",
    "As usual, we shall use one-hot encoding for simplicity. Kudos if you implement more advanced encodings: tf-idf, pseudo-time-series, etc."
   ]
  },
  {
   "cell_type": "code",
   "execution_count": 23,
   "metadata": {
    "colab": {
     "base_uri": "https://localhost:8080/",
     "height": 53
    },
    "colab_type": "code",
    "id": "DpOlBp7ZycO6",
    "outputId": "30a911f2-7d35-4cb5-8991-60457b1e8bac"
   },
   "outputs": [],
   "source": [
    "from sklearn.feature_extraction import DictVectorizer\n",
    "\n",
    "\n",
    "# we only consider top-1k most frequent companies to minimize memory usage\n",
    "top_companies, top_counts = zip(*Counter(data[\"Company\"]).most_common(1000))\n",
    "recognized_companies = set(top_companies)\n",
    "data[\"Company\"] = data[\"Company\"].apply(\n",
    "    lambda comp: comp if comp in recognized_companies else \"Other\"\n",
    ")"
   ]
  },
  {
   "cell_type": "code",
   "execution_count": 24,
   "metadata": {},
   "outputs": [
    {
     "data": {
      "text/plain": [
       "10000    {'Category': 'Healthcare & Nursing Jobs', 'Com...\n",
       "10001    {'Category': 'Healthcare & Nursing Jobs', 'Com...\n",
       "10002    {'Category': 'Healthcare & Nursing Jobs', 'Com...\n",
       "10003    {'Category': 'Trade & Construction Jobs', 'Com...\n",
       "10004    {'Category': 'Trade & Construction Jobs', 'Com...\n",
       "dtype: object"
      ]
     },
     "execution_count": 24,
     "metadata": {},
     "output_type": "execute_result"
    }
   ],
   "source": [
    "data[categorical_columns].apply(dict, axis=1)[10000:10005]"
   ]
  },
  {
   "cell_type": "code",
   "execution_count": 25,
   "metadata": {
    "colab": {
     "base_uri": "https://localhost:8080/",
     "height": 53
    },
    "colab_type": "code",
    "id": "DpOlBp7ZycO6",
    "outputId": "30a911f2-7d35-4cb5-8991-60457b1e8bac"
   },
   "outputs": [
    {
     "data": {
      "text/html": [
       "<style>#sk-container-id-1 {color: black;}#sk-container-id-1 pre{padding: 0;}#sk-container-id-1 div.sk-toggleable {background-color: white;}#sk-container-id-1 label.sk-toggleable__label {cursor: pointer;display: block;width: 100%;margin-bottom: 0;padding: 0.3em;box-sizing: border-box;text-align: center;}#sk-container-id-1 label.sk-toggleable__label-arrow:before {content: \"▸\";float: left;margin-right: 0.25em;color: #696969;}#sk-container-id-1 label.sk-toggleable__label-arrow:hover:before {color: black;}#sk-container-id-1 div.sk-estimator:hover label.sk-toggleable__label-arrow:before {color: black;}#sk-container-id-1 div.sk-toggleable__content {max-height: 0;max-width: 0;overflow: hidden;text-align: left;background-color: #f0f8ff;}#sk-container-id-1 div.sk-toggleable__content pre {margin: 0.2em;color: black;border-radius: 0.25em;background-color: #f0f8ff;}#sk-container-id-1 input.sk-toggleable__control:checked~div.sk-toggleable__content {max-height: 200px;max-width: 100%;overflow: auto;}#sk-container-id-1 input.sk-toggleable__control:checked~label.sk-toggleable__label-arrow:before {content: \"▾\";}#sk-container-id-1 div.sk-estimator input.sk-toggleable__control:checked~label.sk-toggleable__label {background-color: #d4ebff;}#sk-container-id-1 div.sk-label input.sk-toggleable__control:checked~label.sk-toggleable__label {background-color: #d4ebff;}#sk-container-id-1 input.sk-hidden--visually {border: 0;clip: rect(1px 1px 1px 1px);clip: rect(1px, 1px, 1px, 1px);height: 1px;margin: -1px;overflow: hidden;padding: 0;position: absolute;width: 1px;}#sk-container-id-1 div.sk-estimator {font-family: monospace;background-color: #f0f8ff;border: 1px dotted black;border-radius: 0.25em;box-sizing: border-box;margin-bottom: 0.5em;}#sk-container-id-1 div.sk-estimator:hover {background-color: #d4ebff;}#sk-container-id-1 div.sk-parallel-item::after {content: \"\";width: 100%;border-bottom: 1px solid gray;flex-grow: 1;}#sk-container-id-1 div.sk-label:hover label.sk-toggleable__label {background-color: #d4ebff;}#sk-container-id-1 div.sk-serial::before {content: \"\";position: absolute;border-left: 1px solid gray;box-sizing: border-box;top: 0;bottom: 0;left: 50%;z-index: 0;}#sk-container-id-1 div.sk-serial {display: flex;flex-direction: column;align-items: center;background-color: white;padding-right: 0.2em;padding-left: 0.2em;position: relative;}#sk-container-id-1 div.sk-item {position: relative;z-index: 1;}#sk-container-id-1 div.sk-parallel {display: flex;align-items: stretch;justify-content: center;background-color: white;position: relative;}#sk-container-id-1 div.sk-item::before, #sk-container-id-1 div.sk-parallel-item::before {content: \"\";position: absolute;border-left: 1px solid gray;box-sizing: border-box;top: 0;bottom: 0;left: 50%;z-index: -1;}#sk-container-id-1 div.sk-parallel-item {display: flex;flex-direction: column;z-index: 1;position: relative;background-color: white;}#sk-container-id-1 div.sk-parallel-item:first-child::after {align-self: flex-end;width: 50%;}#sk-container-id-1 div.sk-parallel-item:last-child::after {align-self: flex-start;width: 50%;}#sk-container-id-1 div.sk-parallel-item:only-child::after {width: 0;}#sk-container-id-1 div.sk-dashed-wrapped {border: 1px dashed gray;margin: 0 0.4em 0.5em 0.4em;box-sizing: border-box;padding-bottom: 0.4em;background-color: white;}#sk-container-id-1 div.sk-label label {font-family: monospace;font-weight: bold;display: inline-block;line-height: 1.2em;}#sk-container-id-1 div.sk-label-container {text-align: center;}#sk-container-id-1 div.sk-container {/* jupyter's `normalize.less` sets `[hidden] { display: none; }` but bootstrap.min.css set `[hidden] { display: none !important; }` so we also need the `!important` here to be able to override the default hidden behavior on the sphinx rendered scikit-learn.org. See: https://github.com/scikit-learn/scikit-learn/issues/21755 */display: inline-block !important;position: relative;}#sk-container-id-1 div.sk-text-repr-fallback {display: none;}</style><div id=\"sk-container-id-1\" class=\"sk-top-container\"><div class=\"sk-text-repr-fallback\"><pre>DictVectorizer(dtype=&lt;class &#x27;numpy.float32&#x27;&gt;, sparse=False)</pre><b>In a Jupyter environment, please rerun this cell to show the HTML representation or trust the notebook. <br />On GitHub, the HTML representation is unable to render, please try loading this page with nbviewer.org.</b></div><div class=\"sk-container\" hidden><div class=\"sk-item\"><div class=\"sk-estimator sk-toggleable\"><input class=\"sk-toggleable__control sk-hidden--visually\" id=\"sk-estimator-id-1\" type=\"checkbox\" checked><label for=\"sk-estimator-id-1\" class=\"sk-toggleable__label sk-toggleable__label-arrow\">DictVectorizer</label><div class=\"sk-toggleable__content\"><pre>DictVectorizer(dtype=&lt;class &#x27;numpy.float32&#x27;&gt;, sparse=False)</pre></div></div></div></div></div>"
      ],
      "text/plain": [
       "DictVectorizer(dtype=<class 'numpy.float32'>, sparse=False)"
      ]
     },
     "execution_count": 25,
     "metadata": {},
     "output_type": "execute_result"
    }
   ],
   "source": [
    "categorical_vectorizer = DictVectorizer(dtype=np.float32, sparse=False)\n",
    "categorical_vectorizer.fit(data[categorical_columns].apply(dict, axis=1))"
   ]
  },
  {
   "cell_type": "code",
   "execution_count": 26,
   "metadata": {},
   "outputs": [],
   "source": [
    "categ_vectors = categorical_vectorizer.transform(data[categorical_columns].apply(dict, axis=1))"
   ]
  },
  {
   "cell_type": "code",
   "execution_count": 27,
   "metadata": {},
   "outputs": [
    {
     "name": "stdout",
     "output_type": "stream",
     "text": [
      "(244768, 3768)\n",
      "(244768,)\n"
     ]
    }
   ],
   "source": [
    "print(categ_vectors.shape)\n",
    "indices = pd.DataFrame(categ_vectors).apply(lambda row: list(row.index[row == 1]), axis=1)\n",
    "print(indices.shape)\n",
    "# print(categ_vectors[0, 900:1100])"
   ]
  },
  {
   "cell_type": "code",
   "execution_count": 28,
   "metadata": {},
   "outputs": [
    {
     "data": {
      "text/plain": [
       "array([list([11, 643, 1030, 1035, 1489]),\n",
       "       list([11, 643, 1030, 1034, 2580]),\n",
       "       list([11, 643, 1030, 1035, 2809]),\n",
       "       list([27, 643, 1031, 1033, 2809]),\n",
       "       list([27, 643, 1032, 1033, 2524]),\n",
       "       list([27, 643, 1031, 1033, 3431]),\n",
       "       list([27, 643, 1031, 1033, 1634]),\n",
       "       list([22, 687, 1032, 1033, 2997]),\n",
       "       list([22, 34, 1032, 1033, 1093]),\n",
       "       list([22, 687, 1032, 1033, 1042])], dtype=object)"
      ]
     },
     "execution_count": 28,
     "metadata": {},
     "output_type": "execute_result"
    }
   ],
   "source": [
    "np.array(indices[10000:10010])"
   ]
  },
  {
   "cell_type": "markdown",
   "metadata": {
    "colab_type": "text",
    "id": "yk4jmtAYycO8"
   },
   "source": [
    "### The deep learning part\n",
    "\n",
    "Once we've learned to tokenize the data, let's design a machine learning experiment.\n",
    "\n",
    "As before, we won't focus too much on validation, opting for a simple train-test split.\n",
    "\n",
    "__To be completely rigorous,__ we've comitted a small crime here: we used the whole data for tokenization and vocabulary building. A more strict way would be to do that part on training set only. You may want to do that and measure the magnitude of changes."
   ]
  },
  {
   "cell_type": "markdown",
   "metadata": {},
   "source": [
    "### Once again about embeddings"
   ]
  },
  {
   "cell_type": "code",
   "execution_count": 29,
   "metadata": {},
   "outputs": [],
   "source": [
    "import torch\n",
    "from torch import nn\n",
    "from torch.nn import functional as F"
   ]
  },
  {
   "cell_type": "code",
   "execution_count": 75,
   "metadata": {},
   "outputs": [],
   "source": [
    "example_matrix = torch.LongTensor(as_matrix(data[\"Title\"][::100000]))"
   ]
  },
  {
   "cell_type": "code",
   "execution_count": 76,
   "metadata": {},
   "outputs": [
    {
     "data": {
      "text/plain": [
       "tensor([[10807, 30161,  2166,     1,     1],\n",
       "        [15020,  2844,     1,     1,     1],\n",
       "        [27645, 10201,    16, 15215, 10804]])"
      ]
     },
     "execution_count": 76,
     "metadata": {},
     "output_type": "execute_result"
    }
   ],
   "source": [
    "example_matrix"
   ]
  },
  {
   "cell_type": "code",
   "execution_count": 30,
   "metadata": {},
   "outputs": [
    {
     "name": "stdout",
     "output_type": "stream",
     "text": [
      "34158\n"
     ]
    }
   ],
   "source": [
    "print(len(tokens))"
   ]
  },
  {
   "cell_type": "code",
   "execution_count": 31,
   "metadata": {},
   "outputs": [],
   "source": [
    "embedding_layer = nn.Embedding(len(tokens), 32)"
   ]
  },
  {
   "cell_type": "code",
   "execution_count": 32,
   "metadata": {},
   "outputs": [],
   "source": [
    "embedded_example = embedding_layer(example_matrix)"
   ]
  },
  {
   "cell_type": "code",
   "execution_count": 33,
   "metadata": {},
   "outputs": [
    {
     "data": {
      "text/plain": [
       "torch.Size([3, 5, 32])"
      ]
     },
     "execution_count": 33,
     "metadata": {},
     "output_type": "execute_result"
    }
   ],
   "source": [
    "embedded_example.shape"
   ]
  },
  {
   "cell_type": "code",
   "execution_count": 53,
   "metadata": {},
   "outputs": [
    {
     "data": {
      "text/plain": [
       "[('weight',\n",
       "  Parameter containing:\n",
       "  tensor([[ 0.4077, -1.0487, -0.7450,  ...,  0.2586, -0.5001,  0.2659],\n",
       "          [-0.5498, -0.4904,  0.7315,  ..., -0.8167, -0.4805, -0.9181],\n",
       "          [-0.1494, -0.3588,  1.0553,  ..., -1.2072,  0.9087, -0.5259],\n",
       "          ...,\n",
       "          [ 0.4017,  0.5708,  0.6408,  ..., -0.7113, -0.0687, -1.5775],\n",
       "          [-1.3520, -0.1136,  2.4830,  ..., -0.5377,  0.5205,  0.8878],\n",
       "          [-0.1031,  0.1213, -1.9045,  ...,  1.2357,  0.9688, -0.4223]],\n",
       "         requires_grad=True))]"
      ]
     },
     "execution_count": 53,
     "metadata": {},
     "output_type": "execute_result"
    }
   ],
   "source": [
    "list(embedding_layer.named_parameters())"
   ]
  },
  {
   "cell_type": "code",
   "execution_count": 34,
   "metadata": {},
   "outputs": [],
   "source": [
    "name, weight_matrix = list(embedding_layer.named_parameters())[0]"
   ]
  },
  {
   "cell_type": "code",
   "execution_count": 35,
   "metadata": {},
   "outputs": [
    {
     "data": {
      "text/plain": [
       "torch.Size([34158, 32])"
      ]
     },
     "execution_count": 35,
     "metadata": {},
     "output_type": "execute_result"
    }
   ],
   "source": [
    "weight_matrix.shape"
   ]
  },
  {
   "cell_type": "code",
   "execution_count": 36,
   "metadata": {},
   "outputs": [
    {
     "data": {
      "text/plain": [
       "tensor([ 0.9786,  0.5022, -0.1883,  0.8651, -0.8124,  0.0603,  0.5755, -1.2986,\n",
       "        -0.6366,  1.5900, -0.1899, -1.9163,  0.5970,  0.4054,  0.7914,  1.0531,\n",
       "         0.8144, -0.2036, -0.3875,  0.7128, -0.3120,  0.3137, -0.1837,  1.8977,\n",
       "        -1.4515, -1.3671, -0.2870, -0.0759, -0.1254,  0.7868, -0.6762,  1.1648],\n",
       "       grad_fn=<SelectBackward0>)"
      ]
     },
     "execution_count": 36,
     "metadata": {},
     "output_type": "execute_result"
    }
   ],
   "source": [
    "weight_matrix[10807]"
   ]
  },
  {
   "cell_type": "code",
   "execution_count": 37,
   "metadata": {},
   "outputs": [
    {
     "data": {
      "text/plain": [
       "True"
      ]
     },
     "execution_count": 37,
     "metadata": {},
     "output_type": "execute_result"
    }
   ],
   "source": [
    "torch.allclose(embedded_example[0, 0], weight_matrix[10807])"
   ]
  },
  {
   "cell_type": "code",
   "execution_count": 30,
   "metadata": {
    "colab": {},
    "colab_type": "code",
    "id": "2PXuKgOSycPB"
   },
   "outputs": [],
   "source": [
    "def make_batch(data, max_len=None, word_dropout=0):\n",
    "    \"\"\"\n",
    "    Creates a neural-network-friendly dict from the batch data.\n",
    "    :param word_dropout: replaces token index with UNK_IX with this probability\n",
    "    :returns: a dict with {'title' : int64[batch, title_max_len]\n",
    "    \"\"\"\n",
    "    batch = {}\n",
    "    batch[\"Title\"] = as_matrix(data[\"Title\"].values, max_len)\n",
    "    batch[\"FullDescription\"] = as_matrix(data[\"FullDescription\"].values, max_len)\n",
    "    batch[\"Categorical\"] = categorical_vectorizer.transform(\n",
    "        data[categorical_columns].apply(dict, axis=1)\n",
    "    )\n",
    "\n",
    "    if word_dropout != 0:\n",
    "        batch[\"FullDescription\"] = apply_word_dropout(batch[\"FullDescription\"], 1.0 - word_dropout)\n",
    "\n",
    "    if target_column in data.columns:\n",
    "        batch[target_column] = data[target_column].values\n",
    "\n",
    "    return batch\n",
    "\n",
    "\n",
    "def apply_word_dropout(\n",
    "    matrix,\n",
    "    keep_prop,\n",
    "    replace_with=UNK_IX,\n",
    "    pad_ix=PAD_IX,\n",
    "):\n",
    "    dropout_mask = np.random.choice(2, np.shape(matrix), p=[keep_prop, 1 - keep_prop])\n",
    "    dropout_mask &= matrix != pad_ix\n",
    "    return np.choose(dropout_mask, [matrix, np.full_like(matrix, replace_with)])"
   ]
  },
  {
   "cell_type": "code",
   "execution_count": 31,
   "metadata": {},
   "outputs": [
    {
     "data": {
      "text/plain": [
       "(244768, 13)"
      ]
     },
     "execution_count": 31,
     "metadata": {},
     "output_type": "execute_result"
    }
   ],
   "source": [
    "data[:1]\n",
    "data.shape"
   ]
  },
  {
   "cell_type": "code",
   "execution_count": 32,
   "metadata": {
    "colab": {
     "base_uri": "https://localhost:8080/",
     "height": 53
    },
    "colab_type": "code",
    "id": "TngLcWA0ycO_",
    "outputId": "6731b28c-07b1-41dc-9574-f76b01785bba"
   },
   "outputs": [
    {
     "name": "stdout",
     "output_type": "stream",
     "text": [
      "Train size =  195814\n",
      "Validation size =  48954\n"
     ]
    }
   ],
   "source": [
    "from sklearn.model_selection import train_test_split\n",
    "\n",
    "\n",
    "data_train, data_val = train_test_split(data, test_size=0.2, random_state=42)\n",
    "data_train.index = range(len(data_train))\n",
    "data_val.index = range(len(data_val))\n",
    "\n",
    "print(\"Train size = \", len(data_train))\n",
    "print(\"Validation size = \", len(data_val))"
   ]
  },
  {
   "cell_type": "code",
   "execution_count": 80,
   "metadata": {
    "colab": {
     "base_uri": "https://localhost:8080/",
     "height": 251
    },
    "colab_type": "code",
    "id": "I6LpEQf0ycPD",
    "outputId": "e3520cae-fba1-46cc-a216-56287b6e4929"
   },
   "outputs": [],
   "source": [
    "a = make_batch(data_train[:3], max_len=10)"
   ]
  },
  {
   "cell_type": "code",
   "execution_count": 81,
   "metadata": {},
   "outputs": [
    {
     "data": {
      "text/plain": [
       "{'Title': array([[27645, 29893, 33674,     1,     1,     1,     1],\n",
       "        [29239,   197, 19175, 20042, 15554, 23162,  4051],\n",
       "        [10609, 30412, 17746,    33,  8705, 29157,    65]], dtype=int32),\n",
       " 'FullDescription': array([[27645, 29893, 33674, 32939,   982, 27645, 29893, 33674, 16451,\n",
       "         32939],\n",
       "        [29239,   197, 19175, 20042, 15554, 23162,  4051, 25511,   907,\n",
       "            82],\n",
       "        [30746, 21956, 20601,  6409, 16451,  8165, 27493,   982, 30412,\n",
       "         17746]], dtype=int32),\n",
       " 'Categorical': array([[0., 0., 0., ..., 0., 0., 0.],\n",
       "        [0., 0., 0., ..., 0., 0., 0.],\n",
       "        [0., 0., 0., ..., 0., 0., 0.]], dtype=float32),\n",
       " 'Log1pSalary': array([ 9.71154 , 10.463132, 10.71444 ], dtype=float32)}"
      ]
     },
     "execution_count": 81,
     "metadata": {},
     "output_type": "execute_result"
    }
   ],
   "source": [
    "a"
   ]
  },
  {
   "cell_type": "markdown",
   "metadata": {
    "colab_type": "text",
    "id": "0eI5h9UMycPF"
   },
   "source": [
    "#### Architecture\n",
    "\n",
    "Our main model consists of three branches:\n",
    "* Title encoder\n",
    "* Description encoder\n",
    "* Categorical features encoder\n",
    "\n",
    "We will then feed all 3 branches into one common network that predicts salary.\n",
    "\n",
    "<img src=\"https://github.com/yandexdataschool/nlp_course/raw/master/resources/w2_conv_arch.png\" width=600px>\n",
    "\n",
    "This clearly doesn't fit into PyTorch __Sequential__ interface. To build such a network, one will have to use [__PyTorch nn.Module API__](https://pytorch.org/docs/stable/nn.html#torch.nn.Module)."
   ]
  },
  {
   "cell_type": "markdown",
   "metadata": {},
   "source": [
    "But to start with let's build the simple model using only the part of the data. Let's create the baseline solution using only the description part (so it should definetely fit into the Sequential model)."
   ]
  },
  {
   "cell_type": "code",
   "execution_count": 82,
   "metadata": {},
   "outputs": [],
   "source": [
    "import torch\n",
    "import torch.nn.functional as F\n",
    "from torch import nn"
   ]
  },
  {
   "cell_type": "code",
   "execution_count": 83,
   "metadata": {},
   "outputs": [
    {
     "data": {
      "text/plain": [
       "Flatten(start_dim=1, end_dim=-1)"
      ]
     },
     "execution_count": 83,
     "metadata": {},
     "output_type": "execute_result"
    }
   ],
   "source": [
    "nn.Flatten()"
   ]
  },
  {
   "cell_type": "code",
   "execution_count": 84,
   "metadata": {},
   "outputs": [],
   "source": [
    "# You will need these to make it simple\n",
    "\n",
    "\n",
    "class Flatten(nn.Module):\n",
    "    def forward(self, input):\n",
    "        return input.view(input.size(0), -1)\n",
    "\n",
    "\n",
    "class Reorder(nn.Module):\n",
    "    def forward(self, input):\n",
    "        return input.permute((0, 2, 1))"
   ]
  },
  {
   "cell_type": "code",
   "execution_count": 85,
   "metadata": {},
   "outputs": [],
   "source": [
    "reorder = Reorder()"
   ]
  },
  {
   "cell_type": "code",
   "execution_count": 86,
   "metadata": {},
   "outputs": [
    {
     "ename": "NameError",
     "evalue": "name 'embedded_example' is not defined",
     "output_type": "error",
     "traceback": [
      "\u001b[0;31m---------------------------------------------------------------------------\u001b[0m",
      "\u001b[0;31mNameError\u001b[0m                                 Traceback (most recent call last)",
      "Cell \u001b[0;32mIn[86], line 1\u001b[0m\n\u001b[0;32m----> 1\u001b[0m \u001b[43membedded_example\u001b[49m\u001b[38;5;241m.\u001b[39mshape\n",
      "\u001b[0;31mNameError\u001b[0m: name 'embedded_example' is not defined"
     ]
    }
   ],
   "source": [
    "embedded_example.shape"
   ]
  },
  {
   "cell_type": "code",
   "execution_count": null,
   "metadata": {},
   "outputs": [],
   "source": [
    "reorder(embedded_example).shape"
   ]
  },
  {
   "cell_type": "markdown",
   "metadata": {},
   "source": [
    "To generate minibatches we will use simple pyton generator."
   ]
  },
  {
   "cell_type": "code",
   "execution_count": 33,
   "metadata": {},
   "outputs": [],
   "source": [
    "def iterate_minibatches(data, batch_size=256, shuffle=True, cycle=False, **kwargs):\n",
    "    \"\"\"iterates minibatches of data in random order\"\"\"\n",
    "    while True:\n",
    "        indices = np.arange(len(data))\n",
    "        if shuffle:\n",
    "            indices = np.random.permutation(indices)\n",
    "\n",
    "        for start in range(0, len(indices), batch_size):\n",
    "            batch = make_batch(data.iloc[indices[start : start + batch_size]], **kwargs)\n",
    "            target = batch.pop(target_column)\n",
    "            yield batch, target\n",
    "\n",
    "        if not cycle:\n",
    "            break"
   ]
  },
  {
   "cell_type": "code",
   "execution_count": 93,
   "metadata": {},
   "outputs": [],
   "source": [
    "iterator = iterate_minibatches(data_train, 3)\n",
    "batch, target = next(iterator)"
   ]
  },
  {
   "cell_type": "code",
   "execution_count": 94,
   "metadata": {},
   "outputs": [
    {
     "name": "stdout",
     "output_type": "stream",
     "text": [
      "34158\n",
      "3768\n"
     ]
    }
   ],
   "source": [
    "# Here is some startup code:\n",
    "n_tokens = len(tokens)\n",
    "n_cat_features = len(categorical_vectorizer.vocabulary_)\n",
    "hid_size = 64\n",
    "print(n_tokens)\n",
    "print(n_cat_features)"
   ]
  },
  {
   "cell_type": "code",
   "execution_count": 95,
   "metadata": {},
   "outputs": [],
   "source": [
    "simple_model = nn.Sequential()\n",
    "\n",
    "simple_model.add_module(\"emb\", nn.Embedding(num_embeddings=n_tokens, embedding_dim=hid_size))\n",
    "\n",
    "simple_model.add_module(\"reorder\", Reorder())\n",
    "\n",
    "simple_model.add_module(\n",
    "    \"conv1\", nn.Conv1d(in_channels=hid_size, out_channels=hid_size * 2, kernel_size=3)\n",
    ")\n",
    "\n",
    "simple_model.add_module(\"relu1\", nn.ReLU())\n",
    "\n",
    "simple_model.add_module(\n",
    "    \"conv2\", nn.Conv1d(in_channels=hid_size * 2, out_channels=hid_size * 2, kernel_size=3)\n",
    ")\n",
    "\n",
    "\n",
    "simple_model.add_module(\"relu2\", nn.ReLU())\n",
    "\n",
    "simple_model.add_module(\"bn1\", nn.BatchNorm1d(num_features=hid_size * 2))\n",
    "\n",
    "\n",
    "simple_model.add_module(\n",
    "    \"conv3\", nn.Conv1d(in_channels=hid_size * 2, out_channels=hid_size * 2, kernel_size=2)\n",
    ")\n",
    "\n",
    "simple_model.add_module(\"relu3\", nn.ReLU())\n",
    "\n",
    "\n",
    "simple_model.add_module(\"adaptive_pool\", nn.AdaptiveMaxPool1d(1))\n",
    "\n",
    "simple_model.add_module(\"flatten\", nn.Flatten())\n",
    "\n",
    "simple_model.add_module(\"out\", nn.Linear(2 * hid_size, 1))\n",
    "\n",
    "\n",
    "# <YOUR CODE HERE>"
   ]
  },
  {
   "cell_type": "markdown",
   "metadata": {},
   "source": [
    "__Remember!__ We are working with regression problem and predicting only one number."
   ]
  },
  {
   "cell_type": "code",
   "execution_count": null,
   "metadata": {},
   "outputs": [],
   "source": [
    "batch[\"FullDescription\"]"
   ]
  },
  {
   "cell_type": "code",
   "execution_count": 97,
   "metadata": {},
   "outputs": [
    {
     "data": {
      "text/plain": [
       "tensor([[1.6864],\n",
       "        [1.3140],\n",
       "        [1.3569]], grad_fn=<AddmmBackward0>)"
      ]
     },
     "execution_count": 97,
     "metadata": {},
     "output_type": "execute_result"
    }
   ],
   "source": [
    "# Try this to check your model. `torch.long` tensors are required for nn.Embedding layers.\n",
    "simple_model(torch.tensor(batch[\"FullDescription\"], dtype=torch.long))"
   ]
  },
  {
   "cell_type": "code",
   "execution_count": 98,
   "metadata": {},
   "outputs": [],
   "source": [
    "device = \"cuda:6\" if torch.cuda.is_available() else \"cpu\""
   ]
  },
  {
   "cell_type": "code",
   "execution_count": 99,
   "metadata": {},
   "outputs": [
    {
     "data": {
      "text/plain": [
       "'cuda:6'"
      ]
     },
     "execution_count": 99,
     "metadata": {},
     "output_type": "execute_result"
    }
   ],
   "source": [
    "device"
   ]
  },
  {
   "cell_type": "code",
   "execution_count": 100,
   "metadata": {},
   "outputs": [
    {
     "data": {
      "text/plain": [
       "Sequential(\n",
       "  (emb): Embedding(34158, 64)\n",
       "  (reorder): Reorder()\n",
       "  (conv1): Conv1d(64, 128, kernel_size=(3,), stride=(1,))\n",
       "  (relu1): ReLU()\n",
       "  (conv2): Conv1d(128, 128, kernel_size=(3,), stride=(1,))\n",
       "  (relu2): ReLU()\n",
       "  (bn1): BatchNorm1d(128, eps=1e-05, momentum=0.1, affine=True, track_running_stats=True)\n",
       "  (conv3): Conv1d(128, 128, kernel_size=(2,), stride=(1,))\n",
       "  (relu3): ReLU()\n",
       "  (adaptive_pool): AdaptiveMaxPool1d(output_size=1)\n",
       "  (flatten): Flatten(start_dim=1, end_dim=-1)\n",
       "  (out): Linear(in_features=128, out_features=1, bias=True)\n",
       ")"
      ]
     },
     "execution_count": 100,
     "metadata": {},
     "output_type": "execute_result"
    }
   ],
   "source": [
    "simple_model.to(device)"
   ]
  },
  {
   "cell_type": "markdown",
   "metadata": {},
   "source": [
    "And now simple training pipeline:"
   ]
  },
  {
   "cell_type": "code",
   "execution_count": 101,
   "metadata": {},
   "outputs": [
    {
     "data": {
      "image/png": "[encoded data removed]",
      "text/plain": [
       "<Figure size 640x480 with 1 Axes>"
      ]
     },
     "metadata": {},
     "output_type": "display_data"
    }
   ],
   "source": [
    "from random import sample\n",
    "\n",
    "from IPython.display import clear_output\n",
    "\n",
    "\n",
    "epochs = 1\n",
    "\n",
    "model = simple_model\n",
    "opt = torch.optim.Adam(model.parameters())\n",
    "loss_func = nn.MSELoss()  # <YOUR CODE HERE>\n",
    "\n",
    "history = []\n",
    "for epoch_num in range(epochs):\n",
    "    for idx, (batch, target) in enumerate(iterate_minibatches(data_train)):\n",
    "        opt.zero_grad()\n",
    "\n",
    "        # Preprocessing the batch data and target\n",
    "        batch = torch.tensor(batch[\"FullDescription\"], dtype=torch.long).to(device)\n",
    "        target = torch.tensor(target).to(device)\n",
    "\n",
    "        predictions = model(batch)\n",
    "        predictions = predictions.reshape(predictions.size(0))\n",
    "\n",
    "        loss = loss_func(predictions, target)  # <YOUR CODE HERE>\n",
    "\n",
    "        # train with backprop\n",
    "        # <YOUR CODE HERE>\n",
    "        loss.backward()\n",
    "        opt.step()\n",
    "\n",
    "        history.append(loss.item())\n",
    "        if (idx + 1) % 10 == 0:\n",
    "            clear_output(True)\n",
    "            plt.plot(history, label=\"loss\")\n",
    "            plt.legend()\n",
    "            plt.show()"
   ]
  },
  {
   "cell_type": "markdown",
   "metadata": {},
   "source": [
    "To evaluate the model it can be switched to `eval` state."
   ]
  },
  {
   "cell_type": "markdown",
   "metadata": {},
   "source": [
    "Let's check the model quality."
   ]
  },
  {
   "cell_type": "code",
   "execution_count": 109,
   "metadata": {},
   "outputs": [],
   "source": [
    "batch_size = 256"
   ]
  },
  {
   "cell_type": "code",
   "execution_count": 124,
   "metadata": {},
   "outputs": [
    {
     "name": "stderr",
     "output_type": "stream",
     "text": [
      "765it [00:46, 16.58it/s]\n"
     ]
    },
    {
     "name": "stdout",
     "output_type": "stream",
     "text": [
      "Train results:\n",
      "Mean square error: 18402.94139\n",
      "Mean absolute error: 11585.01529\n",
      "195814.0\n"
     ]
    },
    {
     "name": "stderr",
     "output_type": "stream",
     "text": [
      "192it [00:11, 16.96it/s]"
     ]
    },
    {
     "name": "stdout",
     "output_type": "stream",
     "text": [
      "Val results:\n",
      "Mean square error: 20486.41086\n",
      "Mean absolute error: 12307.15553\n",
      "48954.0\n"
     ]
    },
    {
     "name": "stderr",
     "output_type": "stream",
     "text": [
      "\n"
     ]
    }
   ],
   "source": [
    "from tqdm import tqdm, tqdm_notebook\n",
    "\n",
    "\n",
    "def print_metrics(model, data, batch_size=batch_size, name=\"\", **kw):\n",
    "    squared_error = abs_error = num_samples = 0.0\n",
    "    for batch_x, batch_y in tqdm(\n",
    "        iterate_minibatches(data, batch_size=batch_size, shuffle=False, **kw)\n",
    "    ):\n",
    "        batch = torch.tensor(batch_x[\"FullDescription\"], dtype=torch.long).to(device)\n",
    "        batch_pred = model(batch)[:, 0].detach().cpu().numpy()\n",
    "        squared_error += np.sum(np.square(np.exp(batch_pred) - np.exp(batch_y)))\n",
    "        abs_error += np.sum(np.abs(np.exp(batch_pred) - np.exp(batch_y)))\n",
    "        num_samples += len(batch_y)\n",
    "    print(\"%s results:\" % (name or \"\"))\n",
    "    print(\"Mean square error: %.5f\" % np.sqrt(squared_error / num_samples))\n",
    "    print(\"Mean absolute error: %.5f\" % (abs_error / num_samples))\n",
    "    print(num_samples)\n",
    "    return squared_error, abs_error\n",
    "\n",
    "\n",
    "print_metrics(simple_model, data_train, name=\"Train\")\n",
    "print_metrics(simple_model, data_val, name=\"Val\");"
   ]
  },
  {
   "cell_type": "code",
   "execution_count": 123,
   "metadata": {},
   "outputs": [
    {
     "data": {
      "text/plain": [
       "18402.941387884166"
      ]
     },
     "execution_count": 123,
     "metadata": {},
     "output_type": "execute_result"
    }
   ],
   "source": [
    "np.sqrt(338668251.72590)"
   ]
  },
  {
   "cell_type": "markdown",
   "metadata": {},
   "source": [
    "### Bonus area: three-headed network.\n",
    "\n",
    "Now you can try to implement the network we've discussed above. Use [__PyTorch nn.Module API__](https://pytorch.org/docs/stable/nn.html#torch.nn.Module)."
   ]
  },
  {
   "cell_type": "code",
   "execution_count": 183,
   "metadata": {},
   "outputs": [],
   "source": [
    "class ThreeInputsNet(nn.Module):\n",
    "    def __init__(self, n_tokens=len(tokens), n_cat_features=len(categorical_vectorizer.vocabulary_), hid_size=64):\n",
    "        super(ThreeInputsNet, self).__init__()\n",
    "\n",
    "        class Reorder(nn.Module):\n",
    "            def forward(self, input):\n",
    "                return input.permute((0, 2, 1))\n",
    "\n",
    "        self.flatten = nn.Flatten()\n",
    "\n",
    "        self.title_head = nn.Sequential()\n",
    "        self.title_head.add_module(\"emb\", nn.Embedding(num_embeddings=n_tokens, embedding_dim=hid_size))    \n",
    "        self.title_head.add_module(\"reorder\", Reorder())\n",
    "        self.title_head.add_module(\"conv1\", nn.Conv1d(in_channels=hid_size, out_channels=hid_size * 2, kernel_size=3))\n",
    "        self.title_head.add_module(\"relu1\", nn.ReLU())\n",
    "        self.title_head.add_module(\"conv2\", nn.Conv1d(in_channels=hid_size * 2, out_channels=hid_size * 2, kernel_size=3))\n",
    "        self.title_head.add_module(\"relu2\", nn.ReLU())\n",
    "        self.title_head.add_module(\"bn1\", nn.BatchNorm1d(num_features=hid_size * 2))\n",
    "        self.title_head.add_module(\"conv3\", nn.Conv1d(in_channels=hid_size * 2, out_channels=hid_size * 2, kernel_size=2))\n",
    "        self.title_head.add_module(\"relu3\", nn.ReLU())\n",
    "        self.title_head.add_module(\"adaptive_pool\", nn.AdaptiveMaxPool1d(1))\n",
    "        self.title_head.add_module(\"flatten\", self.flatten)    \n",
    "        self.title_head.add_module(\"out\", nn.Linear(2 * hid_size, 1))\n",
    "        # <YOUR CODE HERE>\n",
    "        \n",
    "        self.full_head = nn.Sequential()\n",
    "        self.full_head.add_module(\"emb\", nn.Embedding(num_embeddings=n_tokens, embedding_dim=hid_size))    \n",
    "        self.full_head.add_module(\"reorder\", Reorder())\n",
    "        self.full_head.add_module(\"conv1\", nn.Conv1d(in_channels=hid_size, out_channels=hid_size * 2, kernel_size=3))\n",
    "        self.full_head.add_module(\"relu1\", nn.ReLU())\n",
    "        self.full_head.add_module(\"conv2\", nn.Conv1d(in_channels=hid_size * 2, out_channels=hid_size * 2, kernel_size=3))\n",
    "        self.full_head.add_module(\"relu2\", nn.ReLU())\n",
    "        self.full_head.add_module(\"bn1\", nn.BatchNorm1d(num_features=hid_size * 2))\n",
    "        self.full_head.add_module(\"conv3\", nn.Conv1d(in_channels=hid_size * 2, out_channels=hid_size * 2, kernel_size=2))\n",
    "        self.full_head.add_module(\"relu3\", nn.ReLU())\n",
    "        self.full_head.add_module(\"adaptive_pool\", nn.AdaptiveMaxPool1d(1))\n",
    "        self.full_head.add_module(\"flatten\", self.flatten)    \n",
    "        self.full_head.add_module(\"out\", nn.Linear(2 * hid_size, 1))\n",
    "        # <YOUR CODE HERE>\n",
    "        \n",
    "        self.category_head = nn.Sequential()\n",
    "        self.category_head.add_module(\"lin1\", nn.Linear(n_cat_features, hid_size * 4))\n",
    "        self.category_head.add_module(\"relu1\", nn.ReLU())\n",
    "        self.category_head.add_module(\"lin2\", nn.Linear(hid_size * 4, hid_size * 4))\n",
    "        self.category_head.add_module(\"relu2\", nn.ReLU())\n",
    "        self.category_head.add_module(\"bn1\", nn.BatchNorm1d(num_features=hid_size * 4))\n",
    "        self.category_head.add_module(\"lin3\", nn.Linear(hid_size * 4, hid_size * 4))\n",
    "        self.category_head.add_module(\"relu3\", nn.ReLU())\n",
    "        self.category_head.add_module(\"out\", nn.Linear(4 * hid_size, 1))\n",
    "        \n",
    "        # <YOUR CODE HERE>\n",
    "\n",
    "        self.out = nn.Linear(1 * 3, 1)\n",
    "        \n",
    "\n",
    "    def forward(self, whole_input):\n",
    "        title, full, category = whole_input\n",
    "        for title_layer in self.title_head:\n",
    "            title = title_layer(title)\n",
    "        \n",
    "        for full_layer in self.full_head:\n",
    "            full = full_layer(full)     \n",
    "        \n",
    "        for category_layer in self.category_head:\n",
    "            category = category_layer(category)        \n",
    "        \n",
    "        concatenated = torch.cat(\n",
    "            [\n",
    "            title.view(title.size(0), -1),\n",
    "            full.view(full.size(0), -1),\n",
    "            category.view(category.size(0), -1)\n",
    "            ],\n",
    "            dim=1)\n",
    "        \n",
    "        out = self.out(concatenated)\n",
    "        \n",
    "        return out"
   ]
  },
  {
   "cell_type": "code",
   "execution_count": 184,
   "metadata": {},
   "outputs": [
    {
     "data": {
      "text/plain": [
       "ThreeInputsNet(\n",
       "  (flatten): Flatten(start_dim=1, end_dim=-1)\n",
       "  (title_head): Sequential(\n",
       "    (emb): Embedding(34158, 256)\n",
       "    (reorder): Reorder()\n",
       "    (conv1): Conv1d(256, 512, kernel_size=(3,), stride=(1,))\n",
       "    (relu1): ReLU()\n",
       "    (conv2): Conv1d(512, 512, kernel_size=(3,), stride=(1,))\n",
       "    (relu2): ReLU()\n",
       "    (bn1): BatchNorm1d(512, eps=1e-05, momentum=0.1, affine=True, track_running_stats=True)\n",
       "    (conv3): Conv1d(512, 512, kernel_size=(2,), stride=(1,))\n",
       "    (relu3): ReLU()\n",
       "    (adaptive_pool): AdaptiveMaxPool1d(output_size=1)\n",
       "    (flatten): Flatten(start_dim=1, end_dim=-1)\n",
       "    (out): Linear(in_features=512, out_features=1, bias=True)\n",
       "  )\n",
       "  (full_head): Sequential(\n",
       "    (emb): Embedding(34158, 256)\n",
       "    (reorder): Reorder()\n",
       "    (conv1): Conv1d(256, 512, kernel_size=(3,), stride=(1,))\n",
       "    (relu1): ReLU()\n",
       "    (conv2): Conv1d(512, 512, kernel_size=(3,), stride=(1,))\n",
       "    (relu2): ReLU()\n",
       "    (bn1): BatchNorm1d(512, eps=1e-05, momentum=0.1, affine=True, track_running_stats=True)\n",
       "    (conv3): Conv1d(512, 512, kernel_size=(2,), stride=(1,))\n",
       "    (relu3): ReLU()\n",
       "    (adaptive_pool): AdaptiveMaxPool1d(output_size=1)\n",
       "    (flatten): Flatten(start_dim=1, end_dim=-1)\n",
       "    (out): Linear(in_features=512, out_features=1, bias=True)\n",
       "  )\n",
       "  (category_head): Sequential(\n",
       "    (lin1): Linear(in_features=3768, out_features=1024, bias=True)\n",
       "    (relu1): ReLU()\n",
       "    (lin2): Linear(in_features=1024, out_features=1024, bias=True)\n",
       "    (relu2): ReLU()\n",
       "    (bn1): BatchNorm1d(1024, eps=1e-05, momentum=0.1, affine=True, track_running_stats=True)\n",
       "    (lin3): Linear(in_features=1024, out_features=1024, bias=True)\n",
       "    (relu3): ReLU()\n",
       "    (out): Linear(in_features=1024, out_features=1, bias=True)\n",
       "  )\n",
       "  (out): Linear(in_features=3, out_features=1, bias=True)\n",
       ")"
      ]
     },
     "execution_count": 184,
     "metadata": {},
     "output_type": "execute_result"
    }
   ],
   "source": [
    "device = \"cuda:6\" if torch.cuda.is_available() else \"cpu\"\n",
    "three_head_nn = ThreeInputsNet(hid_size = 256)\n",
    "three_head_nn.to(device)"
   ]
  },
  {
   "cell_type": "code",
   "execution_count": 185,
   "metadata": {},
   "outputs": [
    {
     "data": {
      "image/png": "[encoded data removed]",
      "text/plain": [
       "<Figure size 640x480 with 1 Axes>"
      ]
     },
     "metadata": {},
     "output_type": "display_data"
    }
   ],
   "source": [
    "from IPython.display import clear_output\n",
    "import sys\n",
    "\n",
    "epochs = 1\n",
    "\n",
    "model = three_head_nn\n",
    "opt = torch.optim.Adam(model.parameters(), lr=1e-4)\n",
    "loss_func = nn.MSELoss()\n",
    "\n",
    "history = []\n",
    "for epoch_num in range(epochs):\n",
    "    for idx, (batch, target) in enumerate(iterate_minibatches(data_train)):\n",
    "        opt.zero_grad()\n",
    "\n",
    "        # Preprocessing the batch data and target\n",
    "        batch = torch.tensor(batch[\"Title\"], dtype=torch.long).to(device), \\\n",
    "                torch.tensor(batch[\"FullDescription\"], dtype=torch.long).to(device), \\\n",
    "                torch.tensor(batch[\"Categorical\"], dtype=torch.float32).to(device)\n",
    "        target = torch.tensor(target).to(device)\n",
    "\n",
    "        predictions = model(batch)\n",
    "        predictions = predictions.reshape(predictions.size(0))\n",
    "\n",
    "        loss = loss_func(predictions, target)  # <YOUR CODE HERE>\n",
    "\n",
    "        # train with backprop\n",
    "        loss.backward()\n",
    "        opt.step()\n",
    "\n",
    "        history.append(loss.item())\n",
    "        if (idx + 1) % 10 == 0:\n",
    "            clear_output(True)\n",
    "            plt.plot(history, label=\"loss\")\n",
    "            plt.legend()\n",
    "            plt.show()"
   ]
  },
  {
   "cell_type": "code",
   "execution_count": 87,
   "metadata": {},
   "outputs": [
    {
     "ename": "NameError",
     "evalue": "name 'batch_size' is not defined",
     "output_type": "error",
     "traceback": [
      "\u001b[0;31m---------------------------------------------------------------------------\u001b[0m",
      "\u001b[0;31mNameError\u001b[0m                                 Traceback (most recent call last)",
      "Cell \u001b[0;32mIn[87], line 4\u001b[0m\n\u001b[1;32m      1\u001b[0m \u001b[38;5;28;01mfrom\u001b[39;00m \u001b[38;5;21;01mtqdm\u001b[39;00m \u001b[38;5;28;01mimport\u001b[39;00m tqdm, tqdm_notebook\n\u001b[0;32m----> 4\u001b[0m \u001b[38;5;28;01mdef\u001b[39;00m \u001b[38;5;21mprint_metrics\u001b[39m(model, data, batch_size\u001b[38;5;241m=\u001b[39m\u001b[43mbatch_size\u001b[49m, name\u001b[38;5;241m=\u001b[39m\u001b[38;5;124m\"\u001b[39m\u001b[38;5;124m\"\u001b[39m, \u001b[38;5;241m*\u001b[39m\u001b[38;5;241m*\u001b[39mkw):\n\u001b[1;32m      5\u001b[0m     squared_error \u001b[38;5;241m=\u001b[39m abs_error \u001b[38;5;241m=\u001b[39m num_samples \u001b[38;5;241m=\u001b[39m \u001b[38;5;241m0.0\u001b[39m\n\u001b[1;32m      6\u001b[0m     \u001b[38;5;28;01mfor\u001b[39;00m batch_x, batch_y \u001b[38;5;129;01min\u001b[39;00m tqdm(\n\u001b[1;32m      7\u001b[0m         iterate_minibatches(data, batch_size\u001b[38;5;241m=\u001b[39mbatch_size, shuffle\u001b[38;5;241m=\u001b[39m\u001b[38;5;28;01mFalse\u001b[39;00m, \u001b[38;5;241m*\u001b[39m\u001b[38;5;241m*\u001b[39mkw)\n\u001b[1;32m      8\u001b[0m     ):\n",
      "\u001b[0;31mNameError\u001b[0m: name 'batch_size' is not defined"
     ]
    }
   ],
   "source": [
    "from tqdm import tqdm, tqdm_notebook\n",
    "\n",
    "\n",
    "def print_metrics(model, data, batch_size=batch_size, name=\"\", **kw):\n",
    "    squared_error = abs_error = num_samples = 0.0\n",
    "    for batch_x, batch_y in tqdm(\n",
    "        iterate_minibatches(data, batch_size=batch_size, shuffle=False, **kw)\n",
    "    ):\n",
    "        batch = torch.tensor(batch_x[\"Title\"], dtype=torch.long).to(device), \\\n",
    "                torch.tensor(batch_x[\"FullDescription\"], dtype=torch.long).to(device), \\\n",
    "                torch.tensor(batch_x[\"Categorical\"], dtype=torch.float32).to(device)\n",
    "        batch_pred = model(batch)[:, 0].detach().cpu().numpy()\n",
    "        squared_error += np.sum(np.square(np.exp(batch_pred) - np.exp(batch_y)))\n",
    "        abs_error += np.sum(np.abs(np.exp(batch_pred) - np.exp(batch_y)))\n",
    "        num_samples += len(batch_y)\n",
    "    print(\"%s results:\" % (name or \"\"))\n",
    "    print(\"Mean square error: %.5f\" % np.sqrt(squared_error / num_samples))\n",
    "    print(\"Mean absolute error: %.5f\" % (abs_error / num_samples))\n",
    "    print(num_samples)\n",
    "    return squared_error, abs_error\n",
    "\n",
    "\n",
    "print_metrics(three_head_nn, data_train, name=\"Train\")\n",
    "print_metrics(three_head_nn, data_val, name=\"Val\");"
   ]
  },
  {
   "cell_type": "markdown",
   "metadata": {},
   "source": [
    "### Bonus area 2: comparing RNN to CNN\n",
    "Try implementing simple RNN (or LSTM) and applying it to this task. Compare the quality/performance of these networks. \n",
    "*Hint: try to build networks with ~same number of paremeters.*"
   ]
  },
  {
   "cell_type": "code",
   "execution_count": 88,
   "metadata": {},
   "outputs": [],
   "source": [
    "class ThreeInputsNetRecurrent(nn.Module):\n",
    "    def __init__(self, n_tokens=len(tokens), n_cat_features=len(categorical_vectorizer.vocabulary_), hid_size=64):\n",
    "        super(ThreeInputsNetRecurrent, self).__init__()\n",
    "\n",
    "        class Reorder(nn.Module):\n",
    "            def forward(self, input):\n",
    "                return input.permute((0, 2, 1))\n",
    "\n",
    "        class UnpackLSTM(nn.Module):\n",
    "            def forward(self, input):\n",
    "                return input[1][0]\n",
    "\n",
    "        self.flatten = nn.Flatten()\n",
    "\n",
    "        input_size = 64\n",
    "        hidden_size = 64\n",
    "        num_layers = 4\n",
    "\n",
    "        self.title_head = nn.Sequential()\n",
    "        self.title_head.add_module(\"emb\", nn.Embedding(num_embeddings=n_tokens, embedding_dim=hid_size))\n",
    "        self.title_head.add_module(\"lstm\", nn.LSTM(input_size=input_size, hidden_size=hidden_size, num_layers=num_layers, batch_first=True))  \n",
    "        self.title_head.add_module(\"unpack\", UnpackLSTM())\n",
    "        self.title_head.add_module(\"reorder\", Reorder())\n",
    "        self.title_head.add_module(\"adaptive_pool\", nn.AdaptiveMaxPool1d(1))\n",
    "        self.title_head.add_module(\"flatten\", self.flatten)    \n",
    "        self.title_head.add_module(\"out\", nn.Linear(2 * hid_size, 1))\n",
    "        # <YOUR CODE HERE>\n",
    "        \n",
    "        self.full_head = nn.Sequential()\n",
    "        self.full_head.add_module(\"emb\", nn.Embedding(num_embeddings=n_tokens, embedding_dim=hid_size))    \n",
    "        self.full_head.add_module(\"lstm\", nn.LSTM(input_size=input_size, hidden_size=hidden_size, num_layers=num_layers, batch_first=True))\n",
    "        self.full_head.add_module(\"unpack\", UnpackLSTM())\n",
    "        self.full_head.add_module(\"reorder\", Reorder())\n",
    "        self.full_head.add_module(\"adaptive_pool\", nn.AdaptiveMaxPool1d(1))\n",
    "        self.full_head.add_module(\"flatten\", self.flatten)    \n",
    "        self.full_head.add_module(\"out\", nn.Linear(2 * hid_size, 1))\n",
    "        # <YOUR CODE HERE>\n",
    "        \n",
    "        self.category_head = nn.Sequential()\n",
    "        self.category_head.add_module(\"lin1\", nn.Linear(n_cat_features, hid_size * 4))\n",
    "        self.category_head.add_module(\"relu1\", nn.ReLU())\n",
    "        self.category_head.add_module(\"lin2\", nn.Linear(hid_size * 4, hid_size * 4))\n",
    "        self.category_head.add_module(\"relu2\", nn.ReLU())\n",
    "        self.category_head.add_module(\"bn1\", nn.BatchNorm1d(num_features=hid_size * 4))\n",
    "        self.category_head.add_module(\"lin3\", nn.Linear(hid_size * 4, hid_size * 4))\n",
    "        self.category_head.add_module(\"relu3\", nn.ReLU())\n",
    "        self.category_head.add_module(\"out\", nn.Linear(4 * hid_size, 1))\n",
    "        \n",
    "        # <YOUR CODE HERE>\n",
    "\n",
    "        self.out = nn.Linear(1 * 3, 1)\n",
    "        \n",
    "\n",
    "    def forward(self, whole_input):\n",
    "        title, full, category = whole_input\n",
    "        for title_layer in self.title_head:\n",
    "            title = title_layer(title)\n",
    "            print(title.size())\n",
    "        \n",
    "        for full_layer in self.full_head:\n",
    "            full = full_layer(full)     \n",
    "        \n",
    "        for category_layer in self.category_head:\n",
    "            category = category_layer(category)        \n",
    "        \n",
    "        concatenated = torch.cat(\n",
    "            [\n",
    "            title.view(title.size(0), -1),\n",
    "            full.view(full.size(0), -1),\n",
    "            category.view(category.size(0), -1)\n",
    "            ],\n",
    "            dim=1)\n",
    "        \n",
    "        out = self.out(concatenated)\n",
    "        \n",
    "        return out"
   ]
  },
  {
   "cell_type": "code",
   "execution_count": 89,
   "metadata": {},
   "outputs": [],
   "source": [
    "device = \"cuda:6\" if torch.cuda.is_available() else \"cpu\"\n",
    "three_head_rnn = ThreeInputsNetRecurrent(hid_size = 64)\n",
    "three_head_rnn.to(device);"
   ]
  },
  {
   "cell_type": "code",
   "execution_count": 90,
   "metadata": {},
   "outputs": [
    {
     "ename": "NameError",
     "evalue": "name 'iterate_minibatches' is not defined",
     "output_type": "error",
     "traceback": [
      "\u001b[0;31m---------------------------------------------------------------------------\u001b[0m",
      "\u001b[0;31mNameError\u001b[0m                                 Traceback (most recent call last)",
      "Cell \u001b[0;32mIn[90], line 12\u001b[0m\n\u001b[1;32m     10\u001b[0m history \u001b[38;5;241m=\u001b[39m []\n\u001b[1;32m     11\u001b[0m \u001b[38;5;28;01mfor\u001b[39;00m epoch_num \u001b[38;5;129;01min\u001b[39;00m \u001b[38;5;28mrange\u001b[39m(epochs):\n\u001b[0;32m---> 12\u001b[0m     \u001b[38;5;28;01mfor\u001b[39;00m idx, (batch, target) \u001b[38;5;129;01min\u001b[39;00m \u001b[38;5;28menumerate\u001b[39m(\u001b[43miterate_minibatches\u001b[49m(data_train)):\n\u001b[1;32m     13\u001b[0m         opt\u001b[38;5;241m.\u001b[39mzero_grad()\n\u001b[1;32m     15\u001b[0m         \u001b[38;5;66;03m# Preprocessing the batch data and target\u001b[39;00m\n",
      "\u001b[0;31mNameError\u001b[0m: name 'iterate_minibatches' is not defined"
     ]
    }
   ],
   "source": [
    "from IPython.display import clear_output\n",
    "import sys\n",
    "\n",
    "epochs = 1\n",
    "\n",
    "model = three_head_rnn\n",
    "opt = torch.optim.Adam(model.parameters(), lr=1e-4)\n",
    "loss_func = nn.MSELoss()\n",
    "\n",
    "history = []\n",
    "for epoch_num in range(epochs):\n",
    "    for idx, (batch, target) in enumerate(iterate_minibatches(data_train)):\n",
    "        opt.zero_grad()\n",
    "\n",
    "        # Preprocessing the batch data and target\n",
    "        batch = torch.tensor(batch[\"Title\"], dtype=torch.long).to(device), \\\n",
    "                torch.tensor(batch[\"FullDescription\"], dtype=torch.long).to(device), \\\n",
    "                torch.tensor(batch[\"Categorical\"], dtype=torch.float32).to(device)\n",
    "        target = torch.tensor(target).to(device)\n",
    "\n",
    "        predictions = model(batch)\n",
    "        predictions = predictions.reshape(predictions.size(0))\n",
    "\n",
    "        loss = loss_func(predictions, target)  # <YOUR CODE HERE>\n",
    "\n",
    "        # train with backprop\n",
    "        loss.backward()\n",
    "        opt.step()\n",
    "\n",
    "        history.append(loss.item())\n",
    "        if (idx + 1) % 10 == 0:\n",
    "            clear_output(True)\n",
    "            plt.plot(history, label=\"loss\")\n",
    "            plt.legend()\n",
    "            plt.show()"
   ]
  },
  {
   "cell_type": "code",
   "execution_count": null,
   "metadata": {},
   "outputs": [],
   "source": [
    "print_metrics(three_head_rnn, data_train, name=\"Train\")\n",
    "print_metrics(three_head_rnn, data_val, name=\"Val\");"
   ]
  },
  {
   "cell_type": "markdown",
   "metadata": {},
   "source": [
    "### Bonus area 3: fixing the data leaks\n",
    "Fix the data leak we ignored in the beginning of the __Deep Learning part__. Compare results with and without data leaks using same architectures and training time.\n"
   ]
  },
  {
   "cell_type": "code",
   "execution_count": null,
   "metadata": {},
   "outputs": [],
   "source": [
    "# <YOUR CODE HERE>"
   ]
  },
  {
   "cell_type": "markdown",
   "metadata": {},
   "source": [
    "__Terrible start-up idea #1962:__ make a tool that automaticaly rephrases your job description (or CV) to meet salary expectations :)"
   ]
  }
 ],
 "metadata": {
  "accelerator": "GPU",
  "colab": {
   "name": "week04_practice_CNN_for_texts.ipynb",
   "provenance": [],
   "version": "0.3.2"
  },
  "kernelspec": {
   "display_name": "Python 3 (ipykernel)",
   "language": "python",
   "name": "python3"
  },
  "language_info": {
   "codemirror_mode": {
    "name": "ipython",
    "version": 3
   },
   "file_extension": ".py",
   "mimetype": "text/x-python",
   "name": "python",
   "nbconvert_exporter": "python",
   "pygments_lexer": "ipython3",
   "version": "3.8.10"
  }
 },
 "nbformat": 4,
 "nbformat_minor": 4
}
