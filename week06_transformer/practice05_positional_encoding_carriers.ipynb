{
 "cells": [
  {
   "cell_type": "markdown",
   "metadata": {},
   "source": [
    "## week04: understanding the positional encoding\n",
    "\n",
    "_This notebook is brought to you by [Vladislav Goncharenko](https://www.linkedin.com/in/vladislav-goncharenko/)_"
   ]
  },
  {
   "cell_type": "code",
   "execution_count": 1,
   "metadata": {},
   "outputs": [],
   "source": [
    "# If using Colab, uncomment this cell\n",
    "#! pip install plotly --upgrade"
   ]
  },
  {
   "cell_type": "code",
   "execution_count": 2,
   "metadata": {
    "ExecuteTime": {
     "end_time": "2019-09-26T22:51:09.014457Z",
     "start_time": "2019-09-26T22:51:08.160758Z"
    }
   },
   "outputs": [
    {
     "ename": "ModuleNotFoundError",
     "evalue": "No module named 'plotly'",
     "output_type": "error",
     "traceback": [
      "\u001b[0;31m---------------------------------------------------------------------------\u001b[0m",
      "\u001b[0;31mModuleNotFoundError\u001b[0m                       Traceback (most recent call last)",
      "Cell \u001b[0;32mIn[2], line 5\u001b[0m\n\u001b[1;32m      2\u001b[0m \u001b[38;5;28;01mimport\u001b[39;00m \u001b[38;5;21;01mmatplotlib\u001b[39;00m\u001b[38;5;21;01m.\u001b[39;00m\u001b[38;5;21;01mpyplot\u001b[39;00m \u001b[38;5;28;01mas\u001b[39;00m \u001b[38;5;21;01mplt\u001b[39;00m\n\u001b[1;32m      3\u001b[0m \u001b[38;5;28;01mimport\u001b[39;00m \u001b[38;5;21;01mpandas\u001b[39;00m \u001b[38;5;28;01mas\u001b[39;00m \u001b[38;5;21;01mpd\u001b[39;00m\n\u001b[0;32m----> 5\u001b[0m \u001b[38;5;28;01mimport\u001b[39;00m \u001b[38;5;21;01mplotly\u001b[39;00m\u001b[38;5;21;01m.\u001b[39;00m\u001b[38;5;21;01mexpress\u001b[39;00m \u001b[38;5;28;01mas\u001b[39;00m \u001b[38;5;21;01mpx\u001b[39;00m\n",
      "\u001b[0;31mModuleNotFoundError\u001b[0m: No module named 'plotly'"
     ]
    }
   ],
   "source": [
    "import numpy as np\n",
    "import matplotlib.pyplot as plt\n",
    "import pandas as pd\n",
    "\n",
    "import plotly.express as px"
   ]
  },
  {
   "cell_type": "code",
   "execution_count": null,
   "metadata": {
    "ExecuteTime": {
     "end_time": "2019-09-26T22:51:09.019768Z",
     "start_time": "2019-09-26T22:51:09.016810Z"
    }
   },
   "outputs": [],
   "source": [
    "plt.rcParams.update({'font.size': 14})"
   ]
  },
  {
   "cell_type": "markdown",
   "metadata": {},
   "source": [
    "Positional Encoding matrix components proposed in the article\n",
    "\n",
    "$$\n",
    "PE_{(pos,2i)} = \n",
    "\\sin \\left( \\frac{pos}{10000^{2i/d_{\\text{model}}}} \\right) \\sim\n",
    "$$\n",
    "\n",
    "$$\n",
    "\\sim \\sin \\left( \\exp \\left( -\\frac{2i}{d_{\\text{model}}} \\right) \\cdot \\text{pos} \\right) =\n",
    "\\sin(\\omega \\cdot t)\n",
    "$$\n",
    "\n",
    "$$ \\\\ $$\n",
    "\n",
    "$$\n",
    "PE_{(pos,2i+1)} =\n",
    "\\cos(\\dots) \\sim \\cos (\\omega \\cdot t)\n",
    "$$\n",
    "\n",
    "Let's treat $\\text{pos}$ as time and number of embedding component as carrier frequency of our signal.\n",
    "\n",
    "Note that carrier frequencies decrease exponentionally."
   ]
  },
  {
   "cell_type": "code",
   "execution_count": 11,
   "metadata": {
    "ExecuteTime": {
     "end_time": "2019-09-26T22:51:10.035945Z",
     "start_time": "2019-09-26T22:51:10.032742Z"
    }
   },
   "outputs": [],
   "source": [
    "def make_carriers(d_mod, denom):\n",
    "    return 1 / np.power(denom, np.arange(d_mod) / d_mod)"
   ]
  },
  {
   "cell_type": "code",
   "execution_count": 12,
   "metadata": {
    "ExecuteTime": {
     "end_time": "2019-09-26T22:51:10.770645Z",
     "start_time": "2019-09-26T22:51:10.473266Z"
    }
   },
   "outputs": [],
   "source": [
    "carriers = {i: make_carriers(10, 10**i) for i in (8, 4, 2)}\n",
    "\n",
    "plt.figure(figsize=(15, 7))\n",
    "for i, carrier in carriers.items():\n",
    "    plt.plot(carrier, label=f'denominator: 10^{i}')\n",
    "plt.legend()\n",
    "plt.xlabel('Number of embedding component')\n",
    "plt.ylabel('Carrier frequency')\n",
    "plt.show()"
   ]
  },
  {
   "cell_type": "markdown",
   "metadata": {},
   "source": [
    "In fact different frequencies correspond to different \"clocks\" that we have to measure $\\text{pos}$ as time.\n",
    "\n",
    "Model doesn't know $\\text{pos}$ value directly but it sees all the \"times\" (in fact phases) of differend \"clocks\" ($\\sin$s and $\\cos$s of different frequencies)\n",
    "\n",
    "Having representative sutie of \"clocks\" we can definetly say _what time is it now ($\\text{pos}$ value)_ for every given \"moment\""
   ]
  },
  {
   "cell_type": "code",
   "execution_count": 15,
   "metadata": {
    "ExecuteTime": {
     "end_time": "2019-09-26T22:51:11.741823Z",
     "start_time": "2019-09-26T22:51:11.736491Z"
    }
   },
   "outputs": [],
   "source": [
    "def make_pa_matrix(n_pos, d_mod, denom):\n",
    "    res= np.empty((n_pos, d_mod))\n",
    "    carriers = make_carriers(d_mod, denom)\n",
    "    for pos in range(n_pos):\n",
    "        for i in range(d_mod):\n",
    "            res[pos, 0::2] = np.sin(pos * carriers[i])\n",
    "            res[pos, 1::2] = np.cos(pos * carriers[i])\n",
    "    return res"
   ]
  },
  {
   "cell_type": "markdown",
   "metadata": {},
   "source": [
    "# 2d case"
   ]
  },
  {
   "cell_type": "code",
   "execution_count": 16,
   "metadata": {
    "ExecuteTime": {
     "end_time": "2019-09-26T22:51:13.233975Z",
     "start_time": "2019-09-26T22:51:12.672375Z"
    }
   },
   "outputs": [],
   "source": [
    "pa2 = make_pa_matrix(1000, 2, 10**4)\n",
    "\n",
    "plt.figure(figsize=(15, 12))\n",
    "plt.scatter(pa2[:, 0], pa2[:, 1], c=np.arange(len(pa2)))\n",
    "plt.colorbar()\n",
    "plt.show()"
   ]
  },
  {
   "cell_type": "markdown",
   "metadata": {},
   "source": [
    "**Nice and harmonic picture, isn't it?**\n",
    "\n",
    "That's because the curve plotted is [Lissajou's curve](https://en.wikipedia.org/wiki/Lissajous_curve):\n",
    "\n",
    "![](https://upload.wikimedia.org/wikipedia/commons/5/5d/Lissajous_animation.gif)\n",
    "\n",
    "Curve implicitly specified by harmonic coordinates\n",
    "\n",
    "$$\\left\\{ \\begin{align}\n",
    "  & x(t)=A\\sin (at+\\delta ) \\\\ \n",
    " & y(t)=B\\sin (bt) \\\\ \n",
    "\\end{align} \\right.\n",
    "$$\n",
    "\n",
    "In our case $\\delta = \\pi / 2$"
   ]
  },
  {
   "cell_type": "markdown",
   "metadata": {},
   "source": [
    "# 3d case"
   ]
  },
  {
   "cell_type": "code",
   "execution_count": 7,
   "metadata": {
    "ExecuteTime": {
     "end_time": "2019-09-26T22:54:15.024781Z",
     "start_time": "2019-09-26T22:54:15.019525Z"
    }
   },
   "outputs": [],
   "source": [
    "pa3 = make_pa_matrix(250, 3, 2**3)"
   ]
  },
  {
   "cell_type": "code",
   "execution_count": 8,
   "metadata": {
    "ExecuteTime": {
     "end_time": "2019-09-26T22:54:15.422821Z",
     "start_time": "2019-09-26T22:54:15.410521Z"
    }
   },
   "outputs": [
    {
     "data": {
      "text/html": [
       "<div>\n",
       "<style scoped>\n",
       "    .dataframe tbody tr th:only-of-type {\n",
       "        vertical-align: middle;\n",
       "    }\n",
       "\n",
       "    .dataframe tbody tr th {\n",
       "        vertical-align: top;\n",
       "    }\n",
       "\n",
       "    .dataframe thead th {\n",
       "        text-align: right;\n",
       "    }\n",
       "</style>\n",
       "<table border=\"1\" class=\"dataframe\">\n",
       "  <thead>\n",
       "    <tr style=\"text-align: right;\">\n",
       "      <th></th>\n",
       "      <th>x</th>\n",
       "      <th>y</th>\n",
       "      <th>z</th>\n",
       "      <th>c</th>\n",
       "    </tr>\n",
       "  </thead>\n",
       "  <tbody>\n",
       "    <tr>\n",
       "      <th>0</th>\n",
       "      <td>1.000000</td>\n",
       "      <td>1.000000</td>\n",
       "      <td>1.000000</td>\n",
       "      <td>0.0</td>\n",
       "    </tr>\n",
       "    <tr>\n",
       "      <th>1</th>\n",
       "      <td>0.000000</td>\n",
       "      <td>0.000000</td>\n",
       "      <td>0.000000</td>\n",
       "      <td>1.0</td>\n",
       "    </tr>\n",
       "    <tr>\n",
       "      <th>2</th>\n",
       "      <td>0.540302</td>\n",
       "      <td>0.877583</td>\n",
       "      <td>0.968912</td>\n",
       "      <td>2.0</td>\n",
       "    </tr>\n",
       "    <tr>\n",
       "      <th>3</th>\n",
       "      <td>0.841471</td>\n",
       "      <td>0.479426</td>\n",
       "      <td>0.247404</td>\n",
       "      <td>3.0</td>\n",
       "    </tr>\n",
       "    <tr>\n",
       "      <th>4</th>\n",
       "      <td>-0.416147</td>\n",
       "      <td>0.540302</td>\n",
       "      <td>0.877583</td>\n",
       "      <td>4.0</td>\n",
       "    </tr>\n",
       "  </tbody>\n",
       "</table>\n",
       "</div>"
      ],
      "text/plain": [
       "          x         y         z    c\n",
       "0  1.000000  1.000000  1.000000  0.0\n",
       "1  0.000000  0.000000  0.000000  1.0\n",
       "2  0.540302  0.877583  0.968912  2.0\n",
       "3  0.841471  0.479426  0.247404  3.0\n",
       "4 -0.416147  0.540302  0.877583  4.0"
      ]
     },
     "execution_count": 8,
     "metadata": {},
     "output_type": "execute_result"
    }
   ],
   "source": [
    "pa3_df = pd.DataFrame(\n",
    "    np.concatenate((pa3, np.arange(len(pa3))[:, None]), axis=1),\n",
    "    columns=['x', 'y', 'z', 'c'],\n",
    ")\n",
    "pa3_df.head()"
   ]
  },
  {
   "cell_type": "code",
   "execution_count": 10,
   "metadata": {
    "ExecuteTime": {
     "end_time": "2019-09-26T22:54:16.196313Z",
     "start_time": "2019-09-26T22:54:15.882954Z"
    }
   },
   "outputs": [
    {
     "ename": "AttributeError",
     "evalue": "module 'matplotlib.pyplot' has no attribute 'scatter_3d'",
     "output_type": "error",
     "traceback": [
      "\u001b[0;31m---------------------------------------------------------------------------\u001b[0m",
      "\u001b[0;31mAttributeError\u001b[0m                            Traceback (most recent call last)",
      "Cell \u001b[0;32mIn[10], line 1\u001b[0m\n\u001b[0;32m----> 1\u001b[0m fig \u001b[38;5;241m=\u001b[39m \u001b[43mplt\u001b[49m\u001b[38;5;241;43m.\u001b[39;49m\u001b[43mscatter_3d\u001b[49m(pa3_df, x\u001b[38;5;241m=\u001b[39m\u001b[38;5;124m'\u001b[39m\u001b[38;5;124mx\u001b[39m\u001b[38;5;124m'\u001b[39m, y\u001b[38;5;241m=\u001b[39m\u001b[38;5;124m'\u001b[39m\u001b[38;5;124my\u001b[39m\u001b[38;5;124m'\u001b[39m, z\u001b[38;5;241m=\u001b[39m\u001b[38;5;124m'\u001b[39m\u001b[38;5;124mz\u001b[39m\u001b[38;5;124m'\u001b[39m, color\u001b[38;5;241m=\u001b[39m\u001b[38;5;124m'\u001b[39m\u001b[38;5;124mc\u001b[39m\u001b[38;5;124m'\u001b[39m)\n\u001b[1;32m      2\u001b[0m fig\u001b[38;5;241m.\u001b[39mshow()\n",
      "\u001b[0;31mAttributeError\u001b[0m: module 'matplotlib.pyplot' has no attribute 'scatter_3d'"
     ]
    }
   ],
   "source": [
    "fig = px.scatter_3d(pa3_df, x='x', y='y', z='z', color='c')\n",
    "fig.show()"
   ]
  },
  {
   "cell_type": "code",
   "execution_count": null,
   "metadata": {},
   "outputs": [],
   "source": []
  }
 ],
 "metadata": {
  "kernelspec": {
   "display_name": "Python 3 (ipykernel)",
   "language": "python",
   "name": "python3"
  },
  "language_info": {
   "codemirror_mode": {
    "name": "ipython",
    "version": 3
   },
   "file_extension": ".py",
   "mimetype": "text/x-python",
   "name": "python",
   "nbconvert_exporter": "python",
   "pygments_lexer": "ipython3",
   "version": "3.8.10"
  }
 },
 "nbformat": 4,
 "nbformat_minor": 4
}
